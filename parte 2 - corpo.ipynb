{
 "cells": [
  {
   "cell_type": "markdown",
   "id": "840ed5d2",
   "metadata": {},
   "source": [
    "# parte 2, GRAFICI TEMPORALI \n"
   ]
  },
  {
   "cell_type": "code",
   "execution_count": 10,
   "id": "11228935",
   "metadata": {},
   "outputs": [
    {
     "name": "stdout",
     "output_type": "stream",
     "text": [
      "2015: [['In corso', '35,9'], ['1° anno fuori corso', '38,5'], ['2° anno fuori corso', '15,4'], ['3° anno fuori corso', '5,1'], ['4° anno fuori corso', '-'], ['5° anno fuori corso e oltre', '5,1'], ['Durata degli studi (medie, in anni)\\xa0', '4,3'], ['Ritardo alla laurea (medie, in anni)\\xa0', '0,9'], ['Indice di ritardo (rapporto fra ritardo e durata legale del corso)\\xa0', '0,30']]\n",
      "2016: [['In corso', '36,8'], ['1° anno fuori corso', '50,0'], ['2° anno fuori corso', '10,5'], ['3° anno fuori corso', '2,6'], ['4° anno fuori corso', '-'], ['5° anno fuori corso e oltre', '-'], ['Durata degli studi (medie, in anni)\\xa0', '3,9'], ['Ritardo alla laurea (medie, in anni)\\xa0', '0,5'], ['Indice di ritardo (rapporto fra ritardo e durata legale del corso)\\xa0', '0,18']]\n",
      "2017: [['In corso', '37,5'], ['1° anno fuori corso', '32,1'], ['2° anno fuori corso', '14,3'], ['3° anno fuori corso', '10,7'], ['4° anno fuori corso', '3,6'], ['5° anno fuori corso e oltre', '1,8'], ['Durata degli studi (medie, in anni)\\xa0', '4,2'], ['Ritardo alla laurea (medie, in anni)\\xa0', '0,9'], ['Indice di ritardo (rapporto fra ritardo e durata normale del corso)\\xa0', '0,29']]\n",
      "2018: [['In corso', '46,3'], ['1° anno fuori corso', '20,4'], ['2° anno fuori corso', '18,5'], ['3° anno fuori corso', '5,6'], ['4° anno fuori corso', '5,6'], ['5° anno fuori corso e oltre', '3,7'], ['Durata degli studi (medie, in anni)\\xa0', '4,3'], ['Ritardo alla laurea (medie, in anni)\\xa0', '0,9'], ['Indice di ritardo (rapporto fra ritardo e durata normale del corso)\\xa0', '0,31']]\n",
      "2019: [['In corso', '25,3'], ['1° anno fuori corso', '44,3'], ['2° anno fuori corso', '17,7'], ['3° anno fuori corso', '7,6'], ['4° anno fuori corso', '2,5'], ['5° anno fuori corso e oltre', '2,5'], ['Durata degli studi (medie, in anni)\\xa0', '4,4'], ['Ritardo alla laurea (medie, in anni)\\xa0', '1,4'], ['Indice di ritardo (rapporto fra ritardo e durata normale del corso)\\xa0', '0,47']]\n",
      "2020: [['In corso', '37,5'], ['1° anno fuori corso', '22,5'], ['2° anno fuori corso', '18,8'], ['3° anno fuori corso', '13,8'], ['4° anno fuori corso', '5,0'], ['5° anno fuori corso e oltre', '2,5'], ['Durata degli studi (medie, in anni)\\xa0', '4,6'], ['Ritardo alla laurea (medie, in anni)\\xa0', '1,6'], ['Indice di ritardo (rapporto fra ritardo e durata normale del corso)\\xa0', '0,52']]\n"
     ]
    }
   ],
   "source": [
    "#LIBRERIE \n",
    "import matplotlib.pyplot as plt\n",
    "import numpy as np\n",
    "import csv\n",
    "\n",
    "#estrazione csv 2015\n",
    "info_2015='csv\\dati_info_2015.csv'\n",
    "with open(info_2015,'rt')as f:\n",
    "    data = csv.reader(f, delimiter = ';')\n",
    "    ISMintresting_2015=[row for idx, row in enumerate(data) if idx in range(76,85)]\n",
    "\n",
    "    print('2015:', ISMintresting_2015)\n",
    "    \n",
    "#estrazione csv 2016\n",
    "info_2016='csv\\dati_info_2016.csv'\n",
    "with open(info_2016,'rt')as f:\n",
    "    data = csv.reader(f, delimiter = ';')\n",
    "    ISMintresting_2016=[row for idx, row in enumerate(data) if idx in range(76,85)]\n",
    "\n",
    "    print('2016:', ISMintresting_2016)\n",
    "    \n",
    "#estrazione csv 2017\n",
    "info_2017='csv\\dati_info_2017.csv'\n",
    "with open(info_2017,'rt')as f:\n",
    "    data = csv.reader(f, delimiter = ';')\n",
    "    ISMintresting_2017=[row for idx, row in enumerate(data) if idx in range(76,85)]\n",
    "\n",
    "    print('2017:', ISMintresting_2017)\n",
    "    \n",
    "#estrazione csv 2018\n",
    "info_2018='csv\\dati_info_2018.csv'\n",
    "with open(info_2018,'rt')as f:\n",
    "    data = csv.reader(f, delimiter = ';')\n",
    "    ISMintresting_2018=[row for idx, row in enumerate(data) if idx in range(74,83)] #NB: il csv del 2018 è diverso dagli altri\n",
    "\n",
    "    print('2018:', ISMintresting_2018)\n",
    "    \n",
    "#estrazione csv 2019\n",
    "info_2019='csv\\dati_info_2019.csv'\n",
    "with open(info_2019,'rt')as f:\n",
    "    data = csv.reader(f, delimiter = ';')\n",
    "    ISMintresting_2019=[row for idx, row in enumerate(data) if idx in range(76,85)]\n",
    "\n",
    "    print('2019:', ISMintresting_2019)\n",
    "    \n",
    "#estrazione csv 2020\n",
    "info_2020='csv\\dati_info_2020.csv'\n",
    "with open(info_2020,'rt')as f:\n",
    "    data = csv.reader(f, delimiter = ';')\n",
    "    ISMintresting_2020=[row for idx, row in enumerate(data) if idx in range(76,85)]\n",
    "\n",
    "    print('2020:', ISMintresting_2020)"
   ]
  },
  {
   "cell_type": "code",
   "execution_count": 33,
   "id": "9ce8538e",
   "metadata": {},
   "outputs": [
    {
     "data": {
      "image/png": "[encoded data removed]",
      "text/plain": [
       "<Figure size 432x288 with 1 Axes>"
      ]
     },
     "metadata": {
      "needs_background": "light"
     },
     "output_type": "display_data"
    }
   ],
   "source": [
    "#grafico numero laureati nel tempo\n",
    "\n",
    "\n",
    "quantity = [0,10,20,30,40,50,60,70,80,90,100]\n",
    "year = [\"2015\",\"2016\", \"2017\",\"2018\",\"2019\",\"2020\"]\n",
    "\n",
    "data = {'2015': float(ISMintresting_2015[0][1].replace(\",\",\".\")), '2016': float(ISMintresting_2016[0][1].replace(\",\",\".\")), '2017': float(ISMintresting_2017[0][1].replace(\",\",\".\")), '2018': float(ISMintresting_2018[0][1].replace(\",\",\".\")), '2019': float(ISMintresting_2019[0][1].replace(\",\",\".\")) , '2020': float(ISMintresting_2020[0][1].replace(\",\",\".\"))}\n",
    "names = list(data.keys())\n",
    "values = list(data.values())\n",
    "\n",
    "data2 = {'2015': float(ISMintresting_2015[1][1].replace(\",\",\".\")), '2016': float(ISMintresting_2016[1][1].replace(\",\",\".\")), '2017': float(ISMintresting_2017[1][1].replace(\",\",\".\")), '2018': float(ISMintresting_2018[1][1].replace(\",\",\".\")), '2019': float(ISMintresting_2019[1][1].replace(\",\",\".\")) , '2020': float(ISMintresting_2020[1][1].replace(\",\",\".\"))}\n",
    "values2 = list(data2.values())\n",
    "\n",
    "data3 = {'2015': float(ISMintresting_2015[2][1].replace(\",\",\".\")), '2016': float(ISMintresting_2016[2][1].replace(\",\",\".\")), '2017': float(ISMintresting_2017[2][1].replace(\",\",\".\")), '2018': float(ISMintresting_2018[2][1].replace(\",\",\".\")), '2019': float(ISMintresting_2019[2][1].replace(\",\",\".\")) , '2020': float(ISMintresting_2020[2][1].replace(\",\",\".\"))}\n",
    "values3 = list(data3.values())\n",
    "\n",
    "data4 = {'2015': float(ISMintresting_2015[3][1].replace(\",\",\".\")), '2016': float(ISMintresting_2016[3][1].replace(\",\",\".\")), '2017': float(ISMintresting_2017[3][1].replace(\",\",\".\")), '2018': float(ISMintresting_2018[3][1].replace(\",\",\".\")), '2019': float(ISMintresting_2019[3][1].replace(\",\",\".\")) , '2020': float(ISMintresting_2020[3][1].replace(\",\",\".\"))}\n",
    "values4 = list(data4.values())\n",
    "\n",
    "data5 = {'2015': 0, '2016': 0, '2017': float(ISMintresting_2017[4][1].replace(\",\",\".\")), '2018': float(ISMintresting_2018[4][1].replace(\",\",\".\")), '2019': float(ISMintresting_2019[4][1].replace(\",\",\".\")) , '2020': float(ISMintresting_2020[4][1].replace(\",\",\".\"))}\n",
    "values5 = list(data5.values())\n",
    "\n",
    "data6 = {'2015': float(ISMintresting_2015[5][1].replace(\",\",\".\")), '2016': 0, '2017': float(ISMintresting_2017[5][1].replace(\",\",\".\")), '2018': float(ISMintresting_2018[5][1].replace(\",\",\".\")), '2019': float(ISMintresting_2019[5][1].replace(\",\",\".\")) , '2020': float(ISMintresting_2020[5][1].replace(\",\",\".\"))}\n",
    "values6 = list(data6.values())\n",
    "\n",
    "fig, ax = plt.subplots()\n",
    "\n",
    "# ax.set_ylim(ymin = 0, ymax = 100) -> mette il minimo e il massimo delle y, ma ogni 20\n",
    "ax.plot( names, values, label = \"In corso\")\n",
    "ax.plot(names, values2, label=\"1° anno fuori corso\") #mettere tutti i fuori corso dello stesso colore ma con diverse tonalità\n",
    "ax.plot(names, values3, label=\"2° anno fuori corso\")\n",
    "ax.plot(names, values4, label=\"3° anno fuori corso\")\n",
    "ax.plot(names, values5, label=\"4° anno fuori corso\")\n",
    "ax.plot(names, values6, label=\"5° anno fuori corso\")\n",
    "\n",
    "\n",
    "plt.ylabel('Percentuale')\n",
    "ax.set_yticks(quantity)\n",
    "# ax.set_yticklabels([str(y) for y in quantity + \"%\"]) Non riesco a mettere il simbolo % sulle y \n",
    "\n",
    "ax.legend()\n",
    "\n",
    "fig.suptitle('Grafico temporale in corso e fuoricorso')\n",
    "\n",
    "plt.show()\n"
   ]
  },
  {
   "cell_type": "code",
   "execution_count": 61,
   "id": "10ca8dc1",
   "metadata": {},
   "outputs": [
    {
     "name": "stdout",
     "output_type": "stream",
     "text": [
      "[35.9, 38.5, 15.4, 5.1, 0, 5.1]\n",
      "[36.8, 50.0, 10.5, 2.6, 0, 0]\n",
      "[37.5, 32.1, 14.3, 10.7, 3.6, 1.8]\n",
      "[46.3, 20.4, 18.5, 5.6, 5.6, 3.7]\n",
      "[25.3, 44.3, 17.7, 7.6, 2.5, 2.5]\n",
      "[37.5, 22.5, 18.8, 13.8, 5.0, 2.5]\n",
      "100.1\n"
     ]
    }
   ],
   "source": [
    "#NON SERVONO....\n",
    "year2015values = [float(ISMintresting_2015[0][1].replace(\",\",\".\")),float(ISMintresting_2015[1][1].replace(\",\",\".\")), \n",
    "                  float(ISMintresting_2015[2][1].replace(\",\",\".\")), float(ISMintresting_2015[3][1].replace(\",\",\".\")), \n",
    "                  0, float(ISMintresting_2015[5][1].replace(\",\",\".\"))]\n",
    "\n",
    "year2016values = [float(ISMintresting_2016[0][1].replace(\",\",\".\")),float(ISMintresting_2016[1][1].replace(\",\",\".\")), float(ISMintresting_2016[2][1].replace(\",\",\".\")), \n",
    "                  float(ISMintresting_2016[3][1].replace(\",\",\".\")), 0 , 0]\n",
    "\n",
    "year2017values = [float(ISMintresting_2017[0][1].replace(\",\",\".\")),float(ISMintresting_2017[1][1].replace(\",\",\".\")), float(ISMintresting_2017[2][1].replace(\",\",\".\")), \n",
    "                  float(ISMintresting_2017[3][1].replace(\",\",\".\")), float(ISMintresting_2017[4][1].replace(\",\",\".\")) ,\n",
    "                  float(ISMintresting_2017[5][1].replace(\",\",\".\"))]\n",
    "year2018values = [float(ISMintresting_2018[0][1].replace(\",\",\".\")),float(ISMintresting_2018[1][1].replace(\",\",\".\")), float(ISMintresting_2018[2][1].replace(\",\",\".\")), \n",
    "                  float(ISMintresting_2018[3][1].replace(\",\",\".\")), float(ISMintresting_2018[4][1].replace(\",\",\".\")) \n",
    "                  , float(ISMintresting_2018[5][1].replace(\",\",\".\"))]\n",
    "year2019values = [float(ISMintresting_2019[0][1].replace(\",\",\".\")),float(ISMintresting_2019[1][1].replace(\",\",\".\")),float(ISMintresting_2019[2][1].replace(\",\",\".\")), \n",
    "                  float(ISMintresting_2019[3][1].replace(\",\",\".\")), float(ISMintresting_2019[4][1].replace(\",\",\".\")) , \n",
    "                  float(ISMintresting_2019[5][1].replace(\",\",\".\"))]\n",
    "year2020values = [float(ISMintresting_2020[0][1].replace(\",\",\".\")),float(ISMintresting_2020[1][1].replace(\",\",\".\")), float(ISMintresting_2020[2][1].replace(\",\",\".\")), \n",
    "                  float(ISMintresting_2020[3][1].replace(\",\",\".\")), float(ISMintresting_2020[4][1].replace(\",\",\".\")) ,\n",
    "                  float(ISMintresting_2020[5][1].replace(\",\",\".\"))]\n",
    "\n",
    "print(year2015values, year2016values, year2017values, year2018values, year2019values, year2020values, sep=\"\\n\")\n",
    "j=0\n",
    "for i in year2020values:\n",
    "    j= j+i\n",
    "print(j)"
   ]
  },
  {
   "cell_type": "code",
   "execution_count": 87,
   "id": "be389c10",
   "metadata": {},
   "outputs": [],
   "source": [
    "def my_function(x, y):   #somma 2 array di dimensione 6, serve per far partire le y dalle coordinate giuste\n",
    "    summy=[0,0,0,0,0,0]\n",
    "    for i in range(6) :\n",
    "        summy[i] = x[i] + y[i]\n",
    "    return summy"
   ]
  },
  {
   "cell_type": "code",
   "execution_count": 98,
   "id": "985084e2",
   "metadata": {},
   "outputs": [
    {
     "data": {
      "image/png": "[encoded data removed]",
      "text/plain": [
       "<Figure size 432x288 with 1 Axes>"
      ]
     },
     "metadata": {
      "needs_background": "light"
     },
     "output_type": "display_data"
    }
   ],
   "source": [
    "N = 6\n",
    "ind = np.arange(N)    # the x locations for the groups\n",
    "width = 0.35       # the width of the bars: can also be len(x) sequence\n",
    "\n",
    "\n",
    "#vedere come funziona bottotm \n",
    "Incor = plt.bar(ind, values , width, color = 'deepskyblue' )\n",
    "\n",
    "Unof = plt.bar(ind, values2, width, color = 'dimgray',\n",
    "             bottom = values) #bottom = The y coordinate(s) of the bars bases.\n",
    "\n",
    "r = my_function(values, values2)\n",
    "\n",
    "Duef= plt.bar(ind, values3, width, color = 'gray',\n",
    "            bottom = r)\n",
    "\n",
    "r = my_function(r, values3)\n",
    "\n",
    "Tref = plt.bar(ind, values4, width, color = 'darkgray',\n",
    "           bottom = r  )\n",
    "\n",
    "r = my_function(r, values4)\n",
    "\n",
    "Quattrof= plt.bar(ind, values5, width, color = 'silver',\n",
    "            bottom = r )\n",
    "\n",
    "r = my_function(r, values5)\n",
    "\n",
    "Cinquef = plt.bar(ind, values6, width, color = 'lightgray',\n",
    "            bottom = r )\n",
    "\n",
    "\n",
    "plt.ylabel('Percentuale')\n",
    "plt.title('Grafico temporale in corso e fuori corso')\n",
    "plt.xticks(ind, ('2015', '2016', '2017', '2018', '2019', '2020'))\n",
    "plt.yticks(np.arange(0, 101, 10))\n",
    "\n",
    "plt.legend((Incor[0], Unof[0], Duef[0], Tref[0], Quattrof[0], Cinquef[0]), ('In corso', '1° fuori corso', \n",
    "                                                                                  '2° fuori corso','3° fuori corso','4° fuori corso','5° fuori corso'), bbox_to_anchor=(1.05, 1))\n",
    "\n",
    "\n",
    "plt.show()"
   ]
  },
  {
   "cell_type": "code",
   "execution_count": 67,
   "id": "e23cb983",
   "metadata": {},
   "outputs": [
    {
     "data": {
      "text/plain": [
       "[35.9, 36.8, 37.5, 46.3, 25.3, 37.5]"
      ]
     },
     "execution_count": 67,
     "metadata": {},
     "output_type": "execute_result"
    }
   ],
   "source": [
    "values"
   ]
  },
  {
   "cell_type": "markdown",
   "id": "7d5b1425",
   "metadata": {},
   "source": [
    "# grafico nel tempo frequentazione studi"
   ]
  },
  {
   "cell_type": "code",
   "execution_count": 6,
   "id": "7b967e72",
   "metadata": {},
   "outputs": [
    {
     "name": "stdout",
     "output_type": "stream",
     "text": [
      "2015: [['Più del 75% degli insegnamenti previsti', '76,7'], ['Tra il 50% e il 75%', '16,7'], ['Tra il 25% e il 50%', '-'], ['Meno del 25%', '6,7']]\n",
      "2016: [['Più del 75% degli insegnamenti previsti', '59,5'], ['Tra il 50% e il 75%', '29,7'], ['Tra il 25% e il 50%', '5,4'], ['Meno del 25%', '5,4']]\n",
      "2017: [['Più del 75% degli insegnamenti previsti', '73,2'], ['Tra il 50% e il 75%', '21,4'], ['Tra il 25% e il 50%', '3,6'], ['Meno del 25%', '-']]\n",
      "2018: [['Più del 75% degli insegnamenti previsti', '66,7'], ['Tra il 50% e il 75%', '20,4'], ['Tra il 25% e il 50%', '5,6'], ['Meno del 25%', '5,6']]\n",
      "2019: [['Più del 75% degli insegnamenti previsti', '74,0'], ['Tra il 50% e il 75%', '19,5'], ['Tra il 25% e il 50%', '2,6'], ['Meno del 25%', '2,6']]\n",
      "2020: [['Più del 75% degli insegnamenti previsti', '68,4'], ['Tra il 50% e il 75%', '16,5'], ['Tra il 25% e il 50%', '8,9'], ['Meno del 25%', '6,3']]\n"
     ]
    }
   ],
   "source": [
    "#LIBRERIE \n",
    "import matplotlib.pyplot as plt\n",
    "import numpy as np\n",
    "import csv\n",
    "\n",
    "#estrazione csv 2015\n",
    "info_2015='csv\\dati_info_2015.csv'\n",
    "with open(info_2015,'rt')as f:\n",
    "    data = csv.reader(f, delimiter = ';')\n",
    "    ISMintresting_2015=[row for idx, row in enumerate(data) if idx in range(91,95)]\n",
    "\n",
    "    print('2015:', ISMintresting_2015)\n",
    "    \n",
    "#estrazione csv 2016\n",
    "info_2016='csv\\dati_info_2016.csv'\n",
    "with open(info_2016,'rt')as f:\n",
    "    data = csv.reader(f, delimiter = ';')\n",
    "    ISMintresting_2016=[row for idx, row in enumerate(data) if idx in range(91,95)]\n",
    "\n",
    "    print('2016:', ISMintresting_2016)\n",
    "    \n",
    "#estrazione csv 2017\n",
    "info_2017='csv\\dati_info_2017.csv'\n",
    "with open(info_2017,'rt')as f:\n",
    "    data = csv.reader(f, delimiter = ';')\n",
    "    ISMintresting_2017=[row for idx, row in enumerate(data) if idx in range(91,95)]\n",
    "\n",
    "    print('2017:', ISMintresting_2017)\n",
    "    \n",
    "#estrazione csv 2018\n",
    "info_2018='csv\\dati_info_2018.csv'\n",
    "with open(info_2018,'rt')as f:\n",
    "    data = csv.reader(f, delimiter = ';')\n",
    "    ISMintresting_2018=[row for idx, row in enumerate(data) if idx in range(89,93)] #NB: il csv del 2018 è diverso dagli altri\n",
    "\n",
    "    print('2018:', ISMintresting_2018)\n",
    "    \n",
    "#estrazione csv 2019\n",
    "info_2019='csv\\dati_info_2019.csv'\n",
    "with open(info_2019,'rt')as f:\n",
    "    data = csv.reader(f, delimiter = ';')\n",
    "    ISMintresting_2019=[row for idx, row in enumerate(data) if idx in range(91,95)]\n",
    "\n",
    "    print('2019:', ISMintresting_2019)\n",
    "    \n",
    "#estrazione csv 2020\n",
    "info_2020='csv\\dati_info_2020.csv'\n",
    "with open(info_2020,'rt')as f:\n",
    "    data = csv.reader(f, delimiter = ';')\n",
    "    ISMintresting_2020=[row for idx, row in enumerate(data) if idx in range(91,95)]\n",
    "\n",
    "    print('2020:', ISMintresting_2020)"
   ]
  },
  {
   "cell_type": "code",
   "execution_count": 9,
   "id": "11b45584",
   "metadata": {},
   "outputs": [
    {
     "data": {
      "image/png": "[encoded data removed]",
      "text/plain": [
       "<Figure size 432x288 with 1 Axes>"
      ]
     },
     "metadata": {
      "needs_background": "light"
     },
     "output_type": "display_data"
    }
   ],
   "source": [
    "def my_function(x, y):   #somma 2 array di dimensione 6, serve per far partire le y dalle coordinate giuste\n",
    "    summy=[0,0,0,0,0,0]\n",
    "    for i in range(6) :\n",
    "        summy[i] = x[i] + y[i]\n",
    "    return summy\n",
    "\n",
    "quantity = [0,10,20,30,40,50,60,70,80,90,100]\n",
    "year = [\"2015\",\"2016\", \"2017\",\"2018\",\"2019\",\"2020\"]\n",
    "\n",
    "data = {'2015': float(ISMintresting_2015[0][1].replace(\",\",\".\")), '2016': float(ISMintresting_2016[0][1].replace(\",\",\".\")), '2017': float(ISMintresting_2017[0][1].replace(\",\",\".\")), '2018': float(ISMintresting_2018[0][1].replace(\",\",\".\")), '2019': float(ISMintresting_2019[0][1].replace(\",\",\".\")) , '2020': float(ISMintresting_2020[0][1].replace(\",\",\".\"))}\n",
    "names = list(data.keys())\n",
    "values = list(data.values())\n",
    "\n",
    "data2 = {'2015': float(ISMintresting_2015[1][1].replace(\",\",\".\")), '2016': float(ISMintresting_2016[1][1].replace(\",\",\".\")), '2017': float(ISMintresting_2017[1][1].replace(\",\",\".\")), '2018': float(ISMintresting_2018[1][1].replace(\",\",\".\")), '2019': float(ISMintresting_2019[1][1].replace(\",\",\".\")) , '2020': float(ISMintresting_2020[1][1].replace(\",\",\".\"))}\n",
    "values2 = list(data2.values())\n",
    "\n",
    "data3 = {'2015': 0, '2016': float(ISMintresting_2016[2][1].replace(\",\",\".\")), '2017': float(ISMintresting_2017[2][1].replace(\",\",\".\")), '2018': float(ISMintresting_2018[2][1].replace(\",\",\".\")), '2019': float(ISMintresting_2019[2][1].replace(\",\",\".\")) , '2020': float(ISMintresting_2020[2][1].replace(\",\",\".\"))}\n",
    "values3 = list(data3.values())\n",
    "\n",
    "data4 = {'2015': float(ISMintresting_2015[3][1].replace(\",\",\".\")), '2016': float(ISMintresting_2016[3][1].replace(\",\",\".\")), '2017': 0, '2018': float(ISMintresting_2018[3][1].replace(\",\",\".\")), '2019': float(ISMintresting_2019[3][1].replace(\",\",\".\")) , '2020': float(ISMintresting_2020[3][1].replace(\",\",\".\"))}\n",
    "values4 = list(data4.values())\n",
    "\n",
    "N = 6\n",
    "ind = np.arange(N)    # the x locations for the groups\n",
    "width = 0.35       # the width of the bars: can also be len(x) sequence\n",
    "\n",
    "\n",
    "x1 = plt.bar(ind, values , width, color = 'deepskyblue' )\n",
    "\n",
    "x2 = plt.bar(ind, values2, width, color = 'dimgray',\n",
    "             bottom = values) #bottom = The y coordinate(s) of the bars bases.\n",
    "\n",
    "r = my_function(values, values2)\n",
    "\n",
    "x3 = plt.bar(ind, values3, width, color = 'gray',\n",
    "            bottom = r)\n",
    "\n",
    "r = my_function(r, values3)\n",
    "\n",
    "x4 = plt.bar(ind, values4, width, color = 'darkgray',\n",
    "           bottom = r  )\n",
    "\n",
    "\n",
    "plt.ylabel('Percentuale')\n",
    "plt.title('Grafico temporale frequentazione')\n",
    "plt.xticks(ind, ('2015', '2016', '2017', '2018', '2019', '2020'))\n",
    "plt.yticks(np.arange(0, 101, 10))\n",
    "\n",
    "plt.legend((x1[0], x2[0], x3[0], x4[0]), ('Più del 75% degli insegnamenti previsti', 'Tra il 50% e il 75%', 'Tra il 25% e il 50%', 'Meno del 25%'), bbox_to_anchor=(1.05, 1))\n",
    "\n",
    "\n",
    "plt.show()\n"
   ]
  },
  {
   "cell_type": "code",
   "execution_count": 15,
   "id": "84e197cc",
   "metadata": {},
   "outputs": [
    {
     "data": {
      "image/png": "[encoded data removed]",
      "text/plain": [
       "<Figure size 432x288 with 1 Axes>"
      ]
     },
     "metadata": {
      "needs_background": "light"
     },
     "output_type": "display_data"
    }
   ],
   "source": [
    "quantity = [0,10,20,30,40,50,60,70,80,90,100]\n",
    "year = [\"2015\",\"2016\", \"2017\",\"2018\",\"2019\",\"2020\"]\n",
    "\n",
    "data = {'2015': float(ISMintresting_2015[0][1].replace(\",\",\".\")), '2016': float(ISMintresting_2016[0][1].replace(\",\",\".\")), '2017': float(ISMintresting_2017[0][1].replace(\",\",\".\")), '2018': float(ISMintresting_2018[0][1].replace(\",\",\".\")), '2019': float(ISMintresting_2019[0][1].replace(\",\",\".\")) , '2020': float(ISMintresting_2020[0][1].replace(\",\",\".\"))}\n",
    "names = list(data.keys())\n",
    "values = list(data.values())\n",
    "\n",
    "fig, ax = plt.subplots()\n",
    "\n",
    "ax.plot( names, values, label = \"Più del 75% degli insegnamenti previsti\")\n",
    "\n",
    "\n",
    "plt.ylabel('Percentuale')\n",
    "ax.set_yticks(quantity)\n",
    "\n",
    "ax.legend()\n",
    "\n",
    "fig.suptitle('Grafico frequentazione più del 75%')\n",
    "\n",
    "plt.show()"
   ]
  },
  {
   "cell_type": "markdown",
   "id": "bf26a98b",
   "metadata": {},
   "source": [
    "# grafico nel tempo Studenti lavoratori / non lavoratori\n"
   ]
  },
  {
   "cell_type": "code",
   "execution_count": 11,
   "id": "d14305e1",
   "metadata": {},
   "outputs": [
    {
     "name": "stdout",
     "output_type": "stream",
     "text": [
      "2015: [['Hanno avuto esperienze di lavoro (%)\\xa0', '53,3'], ['Lavoratori-studenti', '3,3'], ['Altre esperienze di lavoro con continuità a tempo pieno', '-'], ['Lavoro a tempo parziale', '20,0'], ['Lavoro occasionale, saltuario, stagionale', '30,0'], ['Nessuna esperienza di lavoro', '46,7']]\n",
      "2016: [['Hanno avuto esperienze di lavoro (%)\\xa0', '59,5'], ['Lavoratori-studenti', '2,7'], ['Altre esperienze di lavoro con continuità a tempo pieno', '-'], ['Lavoro a tempo parziale', '5,4'], ['Lavoro occasionale, saltuario, stagionale', '51,4'], ['Nessuna esperienza di lavoro', '40,5']]\n",
      "2017: [['Hanno avuto esperienze di lavoro (%)\\xa0', '64,3'], ['Lavoratori-studenti', '5,4'], ['Altre esperienze di lavoro con continuità a tempo pieno', '3,6'], ['Lavoro a tempo parziale', '16,1'], ['Lavoro occasionale, saltuario, stagionale', '39,3'], ['Nessuna esperienza di lavoro', '33,9']]\n",
      "2018: [['Hanno avuto esperienze di lavoro (%)\\xa0', '50,0'], ['Lavoratori-studenti', '-'], ['Altre esperienze di lavoro con continuità a tempo pieno', '7,4'], ['Lavoro a tempo parziale', '24,1'], ['Lavoro occasionale, saltuario, stagionale', '18,5'], ['Nessuna esperienza di lavoro', '50,0']]\n",
      "2019: [['Hanno avuto esperienze di lavoro (%)\\xa0', '62,3'], ['Lavoratori-studenti', '2,6'], ['Altre esperienze di lavoro con continuità a tempo pieno', '5,2'], ['Lavoro a tempo parziale', '22,1'], ['Lavoro occasionale, saltuario, stagionale', '32,5'], ['Nessuna esperienza di lavoro', '36,4']]\n",
      "2020: [['Hanno avuto esperienze di lavoro (%)\\xa0', '55,7'], ['Lavoratori-studenti', '8,9'], ['Altre esperienze di lavoro con continuità a tempo pieno', '10,1'], ['Lavoro a tempo parziale', '8,9'], ['Lavoro occasionale, saltuario, stagionale', '27,8'], ['Nessuna esperienza di lavoro', '43,0']]\n"
     ]
    },
    {
     "data": {
      "image/png": "[encoded data removed]",
      "text/plain": [
       "<Figure size 432x288 with 1 Axes>"
      ]
     },
     "metadata": {
      "needs_background": "light"
     },
     "output_type": "display_data"
    }
   ],
   "source": [
    "#LIBRERIE \n",
    "import matplotlib.pyplot as plt\n",
    "import numpy as np\n",
    "import csv\n",
    "\n",
    "#estrazione csv 2015\n",
    "info_2015='csv\\dati_info_2015.csv'\n",
    "with open(info_2015,'rt')as f:\n",
    "    data = csv.reader(f, delimiter = ';')\n",
    "    ISMintresting_2015=[row for idx, row in enumerate(data) if idx in range(111,117)]\n",
    "\n",
    "    print('2015:', ISMintresting_2015)\n",
    "    \n",
    "#estrazione csv 2016\n",
    "info_2016='csv\\dati_info_2016.csv'\n",
    "with open(info_2016,'rt')as f:\n",
    "    data = csv.reader(f, delimiter = ';')\n",
    "    ISMintresting_2016=[row for idx, row in enumerate(data) if idx in range(111,117)]\n",
    "\n",
    "    print('2016:', ISMintresting_2016)\n",
    "    \n",
    "#estrazione csv 2017\n",
    "info_2017='csv\\dati_info_2017.csv'\n",
    "with open(info_2017,'rt')as f:\n",
    "    data = csv.reader(f, delimiter = ';')\n",
    "    ISMintresting_2017=[row for idx, row in enumerate(data) if idx in range(111,117)]\n",
    "\n",
    "    print('2017:', ISMintresting_2017)\n",
    "    \n",
    "#estrazione csv 2018\n",
    "info_2018='csv\\dati_info_2018.csv'\n",
    "with open(info_2018,'rt')as f:\n",
    "    data = csv.reader(f, delimiter = ';')\n",
    "    ISMintresting_2018=[row for idx, row in enumerate(data) if idx in range(109,115)] #NB: il csv del 2018 è diverso dagli altri\n",
    "\n",
    "    print('2018:', ISMintresting_2018)\n",
    "    \n",
    "#estrazione csv 2019\n",
    "info_2019='csv\\dati_info_2019.csv'\n",
    "with open(info_2019,'rt')as f:\n",
    "    data = csv.reader(f, delimiter = ';')\n",
    "    ISMintresting_2019=[row for idx, row in enumerate(data) if idx in range(111,117)]\n",
    "\n",
    "    print('2019:', ISMintresting_2019)\n",
    "    \n",
    "#estrazione csv 2020\n",
    "info_2020='csv\\dati_info_2020.csv'\n",
    "with open(info_2020,'rt')as f:\n",
    "    data = csv.reader(f, delimiter = ';')\n",
    "    ISMintresting_2020=[row for idx, row in enumerate(data) if idx in range(111,117)]\n",
    "\n",
    "    print('2020:', ISMintresting_2020)\n",
    "    \n",
    "##########################################################################\n",
    "\n",
    "def my_function(x, y):\n",
    "    summy=[0,0,0,0,0,0]\n",
    "    for i in range(6) :\n",
    "        summy[i] = x[i] + y[i]\n",
    "    return summy\n",
    "\n",
    "quantity = [0,10,20,30,40,50,60,70,80,90,100]\n",
    "year = [\"2015\",\"2016\", \"2017\",\"2018\",\"2019\",\"2020\"]\n",
    "\n",
    "\n",
    "data2 = {'2015': float(ISMintresting_2015[1][1].replace(\",\",\".\")), '2016': float(ISMintresting_2016[1][1].replace(\",\",\".\")), '2017': float(ISMintresting_2017[1][1].replace(\",\",\".\")), '2018': 0, '2019': float(ISMintresting_2019[1][1].replace(\",\",\".\")) , '2020': float(ISMintresting_2020[1][1].replace(\",\",\".\"))}\n",
    "values2 = list(data2.values())\n",
    "\n",
    "data3 = {'2015': 0, '2016': 0, '2017': float(ISMintresting_2017[2][1].replace(\",\",\".\")), '2018': float(ISMintresting_2018[2][1].replace(\",\",\".\")), '2019': float(ISMintresting_2019[2][1].replace(\",\",\".\")) , '2020': float(ISMintresting_2020[2][1].replace(\",\",\".\"))}\n",
    "values3 = list(data3.values())\n",
    "\n",
    "data4 = {'2015': float(ISMintresting_2015[3][1].replace(\",\",\".\")), '2016': float(ISMintresting_2016[3][1].replace(\",\",\".\")), '2017': float(ISMintresting_2017[3][1].replace(\",\",\".\")), '2018': float(ISMintresting_2018[3][1].replace(\",\",\".\")), '2019': float(ISMintresting_2019[3][1].replace(\",\",\".\")) , '2020': float(ISMintresting_2020[3][1].replace(\",\",\".\"))}\n",
    "values4 = list(data4.values())\n",
    "\n",
    "data5 = {'2015': float(ISMintresting_2015[4][1].replace(\",\",\".\")), '2016': float(ISMintresting_2016[4][1].replace(\",\",\".\")), '2017': float(ISMintresting_2017[4][1].replace(\",\",\".\")), '2018': float(ISMintresting_2018[4][1].replace(\",\",\".\")), '2019': float(ISMintresting_2019[4][1].replace(\",\",\".\")) , '2020': float(ISMintresting_2020[4][1].replace(\",\",\".\"))}\n",
    "values5 = list(data5.values())\n",
    "\n",
    "data6 = {'2015': float(ISMintresting_2015[5][1].replace(\",\",\".\")), '2016': float(ISMintresting_2016[5][1].replace(\",\",\".\")), '2017': float(ISMintresting_2017[5][1].replace(\",\",\".\")), '2018': float(ISMintresting_2018[5][1].replace(\",\",\".\")), '2019': float(ISMintresting_2019[5][1].replace(\",\",\".\")) , '2020': float(ISMintresting_2020[5][1].replace(\",\",\".\"))}\n",
    "values6= list(data6.values())\n",
    "\n",
    "\n",
    "\n",
    "N = 6\n",
    "ind = np.arange(N)    # the x locations for the groups\n",
    "width = 0.35       # the width of the bars: can also be len(x) sequence\n",
    "\n",
    "\n",
    "x1 = plt.bar(ind, values2 , width, color = 'midnightblue' )\n",
    "\n",
    "x2 = plt.bar(ind, values3, width, color = 'mediumblue',\n",
    "             bottom = values2) #bottom = The y coordinate(s) of the bars bases.\n",
    "\n",
    "r = my_function(values2, values3)\n",
    "\n",
    "x3 = plt.bar(ind, values4, width, color = 'steelblue',\n",
    "            bottom = r)\n",
    "\n",
    "r = my_function(r, values4)\n",
    "\n",
    "x4 = plt.bar(ind, values5, width, color = 'deepskyblue',\n",
    "           bottom = r  )\n",
    "\n",
    "r = my_function(r, values5)\n",
    "\n",
    "x5 = plt.bar(ind, values6, width, color = 'sandybrown',\n",
    "           bottom = r  )\n",
    "\n",
    "\n",
    "plt.ylabel('Percentuale')\n",
    "plt.title('Grafico temporale frequentazione')\n",
    "plt.xticks(ind, ('2015', '2016', '2017', '2018', '2019', '2020'))\n",
    "plt.yticks(np.arange(0, 101, 10))\n",
    "\n",
    "plt.legend((x1[0], x2[0], x3[0], x4[0], x5[0]), ('Lavoratori-studenti', 'Altre esperienze di lavoro con continuità a tempo pieno','Lavoro a tempo parziale', 'Lavoro occasionale, saltuario, stagionale','Nessuna esperienza di lavoro'), bbox_to_anchor=(1.05, 1))\n",
    "\n",
    "\n",
    "plt.show()\n"
   ]
  },
  {
   "cell_type": "code",
   "execution_count": 7,
   "id": "b9a2b147",
   "metadata": {},
   "outputs": [
    {
     "data": {
      "text/plain": [
       "{'2015': 46.7,\n",
       " '2016': 40.5,\n",
       " '2017': 33.9,\n",
       " '2018': 50.0,\n",
       " '2019': 36.4,\n",
       " '2020': 43.0}"
      ]
     },
     "execution_count": 7,
     "metadata": {},
     "output_type": "execute_result"
    }
   ],
   "source": [
    "data6"
   ]
  },
  {
   "cell_type": "markdown",
   "id": "c48ebb4d",
   "metadata": {},
   "source": [
    "# Grafico media voto laurea\n",
    "\n"
   ]
  },
  {
   "cell_type": "code",
   "execution_count": 17,
   "id": "09e6be1f",
   "metadata": {},
   "outputs": [
    {
     "name": "stdout",
     "output_type": "stream",
     "text": [
      "2015: [['Punteggio degli esami (medie, in 30-mi)\\xa0', '25,4'], ['Voto di laurea (medie, in 110-mi)\\xa0', '99,8']]\n",
      "2016: [['Punteggio degli esami (medie, in 30-mi)\\xa0', '25,6'], ['Voto di laurea (medie, in 110-mi)\\xa0', '100,5']]\n",
      "2017: [['Punteggio degli esami (medie, in 30-mi)\\xa0', '25,2'], ['Voto di laurea (medie, in 110-mi)\\xa0', '97,5']]\n",
      "2018: [['Punteggio degli esami (medie, in 30-mi)\\xa0', '24,9'], ['Voto di laurea (medie, in 110-mi)\\xa0', '96,4']]\n",
      "2019: [['Punteggio degli esami (medie, in 30-mi)\\xa0', '24,7'], ['Voto di laurea (medie, in 110-mi)\\xa0', '95,7']]\n",
      "2020: [['Punteggio degli esami (medie, in 30-mi)\\xa0', '24,9'], ['Voto di laurea (medie, in 110-mi)\\xa0', '96,5']]\n"
     ]
    },
    {
     "data": {
      "image/png": "[encoded data removed]",
      "text/plain": [
       "<Figure size 432x288 with 1 Axes>"
      ]
     },
     "metadata": {
      "needs_background": "light"
     },
     "output_type": "display_data"
    }
   ],
   "source": [
    "#LIBRERIE \n",
    "import matplotlib.pyplot as plt\n",
    "import numpy as np\n",
    "import csv\n",
    "\n",
    "#estrazione csv 2015\n",
    "info_2015='csv\\dati_info_2015.csv'\n",
    "with open(info_2015,'rt')as f:\n",
    "    data = csv.reader(f, delimiter = ';')\n",
    "    ISMintresting_2015=[row for idx, row in enumerate(data) if idx in range(73,75)]\n",
    "\n",
    "    print('2015:', ISMintresting_2015)\n",
    "    \n",
    "#estrazione csv 2016\n",
    "info_2016='csv\\dati_info_2016.csv'\n",
    "with open(info_2016,'rt')as f:\n",
    "    data = csv.reader(f, delimiter = ';')\n",
    "    ISMintresting_2016=[row for idx, row in enumerate(data) if idx in range(73,75)]\n",
    "\n",
    "    print('2016:', ISMintresting_2016)\n",
    "    \n",
    "#estrazione csv 2017\n",
    "info_2017='csv\\dati_info_2017.csv'\n",
    "with open(info_2017,'rt')as f:\n",
    "    data = csv.reader(f, delimiter = ';')\n",
    "    ISMintresting_2017=[row for idx, row in enumerate(data) if idx in range(73,75)]\n",
    "\n",
    "    print('2017:', ISMintresting_2017)\n",
    "    \n",
    "#estrazione csv 2018\n",
    "info_2018='csv\\dati_info_2018.csv'\n",
    "with open(info_2018,'rt')as f:\n",
    "    data = csv.reader(f, delimiter = ';')\n",
    "    ISMintresting_2018=[row for idx, row in enumerate(data) if idx in range(71,73)] #NB: il csv del 2018 è diverso dagli altri\n",
    "\n",
    "    print('2018:', ISMintresting_2018)\n",
    "    \n",
    "#estrazione csv 2019\n",
    "info_2019='csv\\dati_info_2019.csv'\n",
    "with open(info_2019,'rt')as f:\n",
    "    data = csv.reader(f, delimiter = ';')\n",
    "    ISMintresting_2019=[row for idx, row in enumerate(data) if idx in range(73,75)]\n",
    "\n",
    "    print('2019:', ISMintresting_2019)\n",
    "    \n",
    "#estrazione csv 2020\n",
    "info_2020='csv\\dati_info_2020.csv'\n",
    "with open(info_2020,'rt')as f:\n",
    "    data = csv.reader(f, delimiter = ';')\n",
    "    ISMintresting_2020=[row for idx, row in enumerate(data) if idx in range(73,75)]\n",
    "\n",
    "    print('2020:', ISMintresting_2020)\n",
    "    \n",
    "\n",
    "\n",
    "\n",
    "\n",
    "\n",
    "quantity = [60,70,80,90,100,110]\n",
    "year = [\"2015\",\"2016\", \"2017\",\"2018\",\"2019\",\"2020\"]\n",
    "\n",
    "data = {'2015': float(ISMintresting_2015[1][1].replace(\",\",\".\")), '2016': float(ISMintresting_2016[1][1].replace(\",\",\".\")), '2017': float(ISMintresting_2017[1][1].replace(\",\",\".\")), '2018': float(ISMintresting_2018[1][1].replace(\",\",\".\")), '2019': float(ISMintresting_2019[1][1].replace(\",\",\".\")) , '2020': float(ISMintresting_2020[1][1].replace(\",\",\".\"))}\n",
    "names = list(data.keys())\n",
    "values = list(data.values())\n",
    "\n",
    "fig, ax = plt.subplots()\n",
    "\n",
    "ax.plot( names, values,'-o', ms=15, lw=2, alpha=0.7, mfc='orange', label = \"Voto medio laurea\")\n",
    "#ax.plot(np.random.rand(6), '-o', ms=20, lw=2, alpha=0.7, mfc='orange')\n",
    "\n",
    "# ax.grid() -> mette una griglia sullo sfondo dell'istogramma\n",
    "\n",
    "# fig.text(0.95, 0.05, 'POCCODIO', fontsize=50, color='gray',ha='right', va='bottom', alpha=0.5)\n",
    "# -> mette una scritta sbiadita sullo sfondo del grafico\n",
    "\n",
    "plt.ylabel('Percentuale')\n",
    "ax.set_yticks(quantity)\n",
    "\n",
    "ax.legend()\n",
    "\n",
    "fig.suptitle('Grafico voto medio laurea')\n",
    "\n",
    "plt.show()"
   ]
  },
  {
   "cell_type": "markdown",
   "id": "8a46a8f2",
   "metadata": {},
   "source": [
    "sotto: procedimento completo per fare un istogramma"
   ]
  },
  {
   "cell_type": "code",
   "execution_count": 2,
   "id": "387dd507",
   "metadata": {},
   "outputs": [
    {
     "name": "stdout",
     "output_type": "stream",
     "text": [
      "Uomini\n",
      "84,6\n",
      "Donne\n",
      "15,4\n",
      "Uomini\n",
      "92,1\n",
      "Donne\n",
      "7,9\n",
      "Uomini\n",
      "89,3\n",
      "Donne\n",
      "10,7\n",
      "Uomini\n",
      "88,9\n",
      "Donne\n",
      "11,1\n",
      "Uomini\n",
      "88,6\n",
      "Donne\n",
      "11,4\n",
      "Uomini\n",
      "87,5\n",
      "Donne\n",
      "12,5\n",
      "(84.6, 92.1, 89.3, 88.9, 88.6, 87.5)\n",
      "(15.4, 7.9, 10.7, 11.1, 11.4, 12.5)\n"
     ]
    },
    {
     "data": {
      "image/png": "[encoded data removed]",
      "text/plain": [
       "<Figure size 432x288 with 1 Axes>"
      ]
     },
     "metadata": {
      "needs_background": "light"
     },
     "output_type": "display_data"
    }
   ],
   "source": [
    "#1) import\n",
    "import pandas as pd\n",
    "import matplotlib.pyplot as plt\n",
    "import csv\n",
    "import numpy as np\n",
    "\n",
    "\n",
    "#2) importa dati da csv\n",
    "info2015='csv/dati_info_2015.csv'\n",
    "with open(info2015,'rt')as f:\n",
    "    data = csv.reader(f, delimiter = ';')\n",
    "    intresting2015=[row for idx, row in enumerate(data) if idx in range(8, 10)]#solo le rows interessanti\n",
    "    \n",
    "    for row in intresting2015:\n",
    "        print(row[0])\n",
    "        #per printare il dato allegato se c'è lo stampo altrimenti se non c'è genero eccezione che evito usando continue\n",
    "        try:\n",
    "            print(row[1])\n",
    "        except:\n",
    "            continue\n",
    "            \n",
    "info2016='csv/dati_info_2016.csv'\n",
    "with open(info2016,'rt')as f:\n",
    "    data = csv.reader(f, delimiter = ';')\n",
    "    intresting2016=[row for idx, row in enumerate(data) if idx in range(8, 10)]#solo le rows interessanti\n",
    "    \n",
    "    for row in intresting2016:\n",
    "        print(row[0])\n",
    "        #per printare il dato allegato se c'è lo stampo altrimenti se non c'è genero eccezione che evito usando continue\n",
    "        try:\n",
    "            print(row[1])\n",
    "        except:\n",
    "            continue\n",
    "\n",
    "info2017='csv/dati_info_2017.csv'\n",
    "with open(info2017,'rt')as f:\n",
    "    data = csv.reader(f, delimiter = ';')\n",
    "    intresting2017=[row for idx, row in enumerate(data) if idx in range(8, 10)]#solo le rows interessanti\n",
    "    \n",
    "    for row in intresting2017:\n",
    "        print(row[0])\n",
    "        #per printare il dato allegato se c'è lo stampo altrimenti se non c'è genero eccezione che evito usando continue\n",
    "        try:\n",
    "            print(row[1])\n",
    "        except:\n",
    "            continue\n",
    "\n",
    "info2018='csv/dati_info_2018.csv'\n",
    "with open(info2018,'rt')as f:\n",
    "    data = csv.reader(f, delimiter = ';')\n",
    "    intresting2018=[row for idx, row in enumerate(data) if idx in range(8, 10)]#solo le rows interessanti\n",
    "    \n",
    "    for row in intresting2018:\n",
    "        print(row[0])\n",
    "        #per printare il dato allegato se c'è lo stampo altrimenti se non c'è genero eccezione che evito usando continue\n",
    "        try:\n",
    "            print(row[1])\n",
    "        except:\n",
    "            continue\n",
    "            \n",
    "info2019='csv/dati_info_2019.csv'\n",
    "with open(info2019,'rt')as f:\n",
    "    data = csv.reader(f, delimiter = ';')\n",
    "    intresting2019=[row for idx, row in enumerate(data) if idx in range(8, 10)]#solo le rows interessanti\n",
    "    \n",
    "    for row in intresting2019:\n",
    "        print(row[0])\n",
    "        #per printare il dato allegato se c'è lo stampo altrimenti se non c'è genero eccezione che evito usando continue\n",
    "        try:\n",
    "            print(row[1])\n",
    "        except:\n",
    "            continue\n",
    "info2020='csv/dati_info_2020.csv'\n",
    "with open(info2020,'rt')as f:\n",
    "    data = csv.reader(f, delimiter = ';')\n",
    "    intresting2020=[row for idx, row in enumerate(data) if idx in range(8, 10)]#solo le rows interessanti\n",
    "    \n",
    "    for row in intresting2020:\n",
    "        print(row[0])\n",
    "        #per printare il dato allegato se c'è lo stampo altrimenti se non c'è genero eccezione che evito usando continue\n",
    "        try:\n",
    "            print(row[1])\n",
    "        except:\n",
    "            continue\n",
    "            \n",
    "#3) organizza e rinomina dati \n",
    "men = (float(intresting2015[0][1].replace(\",\",\".\")), float(intresting2016[0][1].replace(\",\",\".\")), float(intresting2017[0][1].replace(\",\",\".\")), float(intresting2018[0][1].replace(\",\",\".\")), float(intresting2019[0][1].replace(\",\",\".\")), float(intresting2020[0][1].replace(\",\",\".\")))\n",
    "women = (float(intresting2015[1][1].replace(\",\",\".\")), float(intresting2016[1][1].replace(\",\",\".\")), float(intresting2017[1][1].replace(\",\",\".\")), float(intresting2018[1][1].replace(\",\",\".\")), float(intresting2019[1][1].replace(\",\",\".\")), float(intresting2020[1][1].replace(\",\",\".\")))\n",
    "\n",
    "print(men, women, sep = '\\n')\n",
    "\n",
    "#Tabella colori matplotlib\n",
    "#https://www.google.com/imgres?imgurl=https://matplotlib.org/2.0.2/mpl_examples/color/named_colors.png&imgrefurl=https://matplotlib.org/2.0.2/examples/color/named_colors.html&tbnid=UN_S-P94xKO4_M&vet=1&docid=5WUzPa4UhtP_nM&w=800&h=500&source=sh/x/im\n",
    "\n",
    "\n",
    "#4) comand iper creare grafico \n",
    "N = 6\n",
    "ind = np.arange(N)    \n",
    "width = 0.35      \n",
    "\n",
    "mensG = plt.bar(ind, men, width, color = 'dodgerblue' )\n",
    "womensG = plt.bar(ind, women, width, color = 'hotpink',\n",
    "             bottom=men) \n",
    "\n",
    "plt.ylabel('Percentuale')\n",
    "plt.title('Grafico temporale genere dei laureati')\n",
    "plt.xticks(ind, ('2015', '2016', '2017', '2018', '2019', '2020'))\n",
    "plt.yticks(np.arange(0, 101, 10))\n",
    "plt.legend((mensG[0], womensG[0]), ('Men', 'Women'), bbox_to_anchor=(1.05, 1)) #bbox_to ... serve per mettere la legenda fuori\n",
    "\n",
    "plt.show()"
   ]
  },
  {
   "cell_type": "code",
   "execution_count": null,
   "id": "5393f51c",
   "metadata": {},
   "outputs": [],
   "source": []
  }
 ],
 "metadata": {
  "kernelspec": {
   "display_name": "Python 3",
   "language": "python",
   "name": "python3"
  },
  "language_info": {
   "codemirror_mode": {
    "name": "ipython",
    "version": 3
   },
   "file_extension": ".py",
   "mimetype": "text/x-python",
   "name": "python",
   "nbconvert_exporter": "python",
   "pygments_lexer": "ipython3",
   "version": "3.8.8"
  }
 },
 "nbformat": 4,
 "nbformat_minor": 5
}
