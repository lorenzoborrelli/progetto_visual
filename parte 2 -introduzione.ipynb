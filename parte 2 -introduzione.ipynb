{
 "cells": [
  {
   "cell_type": "markdown",
   "id": "0982b4c0",
   "metadata": {},
   "source": [
    "Grafici nel tempo, corso informatica 31-L"
   ]
  },
  {
   "cell_type": "code",
   "execution_count": 2,
   "id": "3fc8b0bc",
   "metadata": {},
   "outputs": [],
   "source": [
    "#LIBRERIE\n",
    "import matplotlib.pyplot as plt\n",
    "import numpy as np\n",
    "import csv"
   ]
  },
  {
   "cell_type": "code",
   "execution_count": 3,
   "id": "0dbbeed6",
   "metadata": {},
   "outputs": [
    {
     "name": "stdout",
     "output_type": "stream",
     "text": [
      "2015: [['Numero di laureati', '39'], ['Hanno compilato il questionario', '30']]\n"
     ]
    }
   ],
   "source": [
    "#estrazione csv 2015\n",
    "info_2015='csv\\dati_info_2015.csv'\n",
    "with open(info_2015,'rt')as f:\n",
    "    data = csv.reader(f, delimiter = ';')\n",
    "    ISMintresting_2015=[row for idx, row in enumerate(data) if idx in range(2,4)]#solo le rows interessanti\n",
    "\n",
    "    print('2015:', ISMintresting_2015)"
   ]
  },
  {
   "cell_type": "code",
   "execution_count": 4,
   "id": "123b5708",
   "metadata": {},
   "outputs": [
    {
     "name": "stdout",
     "output_type": "stream",
     "text": [
      "2016: [['Numero di laureati', '38'], ['Hanno compilato il questionario', '37']]\n"
     ]
    }
   ],
   "source": [
    "#estrazione csv 2016\n",
    "info_2016='csv\\dati_info_2016.csv'\n",
    "with open(info_2016,'rt')as f:\n",
    "    data = csv.reader(f, delimiter = ';')\n",
    "    ISMintresting_2016=[row for idx, row in enumerate(data) if idx in range(2,4)]#solo le rows interessanti\n",
    "\n",
    "    print('2016:', ISMintresting_2016)"
   ]
  },
  {
   "cell_type": "code",
   "execution_count": 5,
   "id": "42d30cf1",
   "metadata": {},
   "outputs": [
    {
     "name": "stdout",
     "output_type": "stream",
     "text": [
      "2017: [['Numero di laureati', '56'], ['Hanno compilato il questionario', '56']]\n"
     ]
    }
   ],
   "source": [
    "#estrazione csv 2017\n",
    "info_2017='csv\\dati_info_2017.csv'\n",
    "with open(info_2017,'rt')as f:\n",
    "    data = csv.reader(f, delimiter = ';')\n",
    "    ISMintresting_2017=[row for idx, row in enumerate(data) if idx in range(2,4)]#solo le rows interessanti\n",
    "\n",
    "    print('2017:', ISMintresting_2017)"
   ]
  },
  {
   "cell_type": "code",
   "execution_count": 6,
   "id": "23559092",
   "metadata": {},
   "outputs": [
    {
     "name": "stdout",
     "output_type": "stream",
     "text": [
      "2018: [['Numero di laureati', '54'], ['Hanno compilato il questionario', '54']]\n"
     ]
    }
   ],
   "source": [
    "#estrazione csv 2018\n",
    "info_2018='csv\\dati_info_2018.csv'\n",
    "with open(info_2018,'rt')as f:\n",
    "    data = csv.reader(f, delimiter = ';')\n",
    "    ISMintresting_2018=[row for idx, row in enumerate(data) if idx in range(2,4)]#solo le rows interessanti\n",
    "\n",
    "    print('2018:', ISMintresting_2018)"
   ]
  },
  {
   "cell_type": "code",
   "execution_count": 7,
   "id": "0acdeed9",
   "metadata": {},
   "outputs": [
    {
     "name": "stdout",
     "output_type": "stream",
     "text": [
      "2019: [['Numero di laureati', '79'], ['Hanno compilato il questionario', '77']]\n"
     ]
    }
   ],
   "source": [
    "#estrazione csv 2019\n",
    "info_2019='csv\\dati_info_2019.csv'\n",
    "with open(info_2019,'rt')as f:\n",
    "    data = csv.reader(f, delimiter = ';')\n",
    "    ISMintresting_2019=[row for idx, row in enumerate(data) if idx in range(2,4)]#solo le rows interessanti\n",
    "\n",
    "    print('2019:', ISMintresting_2019)"
   ]
  },
  {
   "cell_type": "code",
   "execution_count": 8,
   "id": "607837a5",
   "metadata": {},
   "outputs": [
    {
     "name": "stdout",
     "output_type": "stream",
     "text": [
      "2020: [['Numero di laureati', '80'], ['Hanno compilato il questionario', '79']]\n"
     ]
    }
   ],
   "source": [
    "#estrazione csv 2020\n",
    "info_2020='csv\\dati_info_2020.csv'\n",
    "with open(info_2020,'rt')as f:\n",
    "    data = csv.reader(f, delimiter = ';')\n",
    "    ISMintresting_2020=[row for idx, row in enumerate(data) if idx in range(2,4)]#solo le rows interessanti\n",
    "\n",
    "    print('2020:', ISMintresting_2020)"
   ]
  },
  {
   "cell_type": "code",
   "execution_count": 11,
   "id": "808e5a75",
   "metadata": {},
   "outputs": [
    {
     "data": {
      "image/png": "[encoded data removed]",
      "text/plain": [
       "<Figure size 432x288 with 1 Axes>"
      ]
     },
     "metadata": {
      "needs_background": "light"
     },
     "output_type": "display_data"
    }
   ],
   "source": [
    "#grafico numero laureati nel tempo\n",
    "\n",
    "\n",
    "quantity = [0,10,20,30,40,50,60,70,80,90,100]\n",
    "year = [\"2015\",\"2016\", \"2017\",\"2018\",\"2019\",\"2020\"]\n",
    "\n",
    "data = {'2015': float(ISMintresting_2015[0][1].replace(\",\",\".\")), '2016': float(ISMintresting_2016[0][1].replace(\",\",\".\")), '2017': float(ISMintresting_2017[0][1].replace(\",\",\".\")), '2018': float(ISMintresting_2018[0][1].replace(\",\",\".\")), '2019': float(ISMintresting_2019[0][1].replace(\",\",\".\")) , '2020': float(ISMintresting_2020[0][1].replace(\",\",\".\"))}\n",
    "names = list(data.keys())\n",
    "values = list(data.values())\n",
    "\n",
    "data2 = {'2015': float(ISMintresting_2015[1][1].replace(\",\",\".\")), '2016': float(ISMintresting_2016[1][1].replace(\",\",\".\")), '2017': float(ISMintresting_2017[1][1].replace(\",\",\".\")), '2018': float(ISMintresting_2018[1][1].replace(\",\",\".\")), '2019': float(ISMintresting_2019[1][1].replace(\",\",\".\")) , '2020': float(ISMintresting_2020[1][1].replace(\",\",\".\"))}\n",
    "values2 = list(data2.values())\n",
    "\n",
    "\n",
    "fig, ax = plt.subplots()\n",
    "\n",
    "# ax.set_ylim(ymin = 0, ymax = 100) -> mette il minimo e il massimo delle y, ma ogni 20\n",
    "ax.plot( names, values, label = \"laureati\")\n",
    "ax.plot(names, values2,linestyle='--', label=\"compilato questionario\") # modificare colori\n",
    "ax.set_yticks(quantity) #setta le y, in base al contenuto dell'array passato\n",
    "\n",
    "ax.legend()\n",
    "\n",
    "fig.suptitle('Grafico temporale laureati')\n",
    "\n",
    "plt.show()\n"
   ]
  },
  {
   "cell_type": "markdown",
   "id": "1e0d21e2",
   "metadata": {},
   "source": [
    "# PALETTE COLORI GRAFICI\n"
   ]
  },
  {
   "cell_type": "markdown",
   "id": "3b045464",
   "metadata": {},
   "source": [
    "https://images.app.goo.gl/a1ZD1QmUrziNrY1g9"
   ]
  },
  {
   "cell_type": "code",
   "execution_count": null,
   "id": "e7c67783",
   "metadata": {},
   "outputs": [],
   "source": []
  }
 ],
 "metadata": {
  "kernelspec": {
   "display_name": "Python 3",
   "language": "python",
   "name": "python3"
  },
  "language_info": {
   "codemirror_mode": {
    "name": "ipython",
    "version": 3
   },
   "file_extension": ".py",
   "mimetype": "text/x-python",
   "name": "python",
   "nbconvert_exporter": "python",
   "pygments_lexer": "ipython3",
   "version": "3.8.8"
  }
 },
 "nbformat": 4,
 "nbformat_minor": 5
}
