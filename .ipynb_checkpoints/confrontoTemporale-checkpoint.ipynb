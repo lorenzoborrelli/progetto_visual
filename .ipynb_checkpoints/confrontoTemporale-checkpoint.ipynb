{
 "cells": [
  {
   "cell_type": "markdown",
   "metadata": {},
   "source": [
    "# CONFRONTO TEMPORALE DAL 2015 AL 2020"
   ]
  },
  {
   "cell_type": "code",
   "execution_count": 1,
   "metadata": {},
   "outputs": [],
   "source": [
    "import pandas as pd\n",
    "import matplotlib.pyplot as plt\n",
    "import csv\n",
    "import numpy as np"
   ]
  },
  {
   "cell_type": "markdown",
   "metadata": {},
   "source": [
    "## Carico csv"
   ]
  },
  {
   "cell_type": "code",
   "execution_count": 18,
   "metadata": {},
   "outputs": [
    {
     "name": "stdout",
     "output_type": "stream",
     "text": [
      "Uomini\n",
      "84,6\n",
      "Donne\n",
      "15,4\n"
     ]
    }
   ],
   "source": [
    "info2015='csv/dati_info_2015.csv'\n",
    "with open(info2015,'rt')as f:\n",
    "    data = csv.reader(f, delimiter = ';')\n",
    "    intresting2015=[row for idx, row in enumerate(data) if idx in range(8, 10)]#solo le rows interessanti\n",
    "    \n",
    "    for row in intresting2015:\n",
    "        print(row[0])\n",
    "        #per printare il dato allegato se c'è lo stampo altrimenti se non c'è genero eccezione che evito usando continue\n",
    "        try:\n",
    "            print(row[1])\n",
    "        except:\n",
    "            continue"
   ]
  },
  {
   "cell_type": "code",
   "execution_count": 19,
   "metadata": {},
   "outputs": [
    {
     "name": "stdout",
     "output_type": "stream",
     "text": [
      "Uomini\n",
      "92,1\n",
      "Donne\n",
      "7,9\n"
     ]
    }
   ],
   "source": [
    "info2016='csv/dati_info_2016.csv'\n",
    "with open(info2016,'rt')as f:\n",
    "    data = csv.reader(f, delimiter = ';')\n",
    "    intresting2016=[row for idx, row in enumerate(data) if idx in range(8, 10)]#solo le rows interessanti\n",
    "    \n",
    "    for row in intresting2016:\n",
    "        print(row[0])\n",
    "        #per printare il dato allegato se c'è lo stampo altrimenti se non c'è genero eccezione che evito usando continue\n",
    "        try:\n",
    "            print(row[1])\n",
    "        except:\n",
    "            continue"
   ]
  },
  {
   "cell_type": "code",
   "execution_count": 20,
   "metadata": {},
   "outputs": [
    {
     "name": "stdout",
     "output_type": "stream",
     "text": [
      "Uomini\n",
      "89,3\n",
      "Donne\n",
      "10,7\n"
     ]
    }
   ],
   "source": [
    "info2017='csv/dati_info_2017.csv'\n",
    "with open(info2017,'rt')as f:\n",
    "    data = csv.reader(f, delimiter = ';')\n",
    "    intresting2017=[row for idx, row in enumerate(data) if idx in range(8, 10)]#solo le rows interessanti\n",
    "    \n",
    "    for row in intresting2017:\n",
    "        print(row[0])\n",
    "        #per printare il dato allegato se c'è lo stampo altrimenti se non c'è genero eccezione che evito usando continue\n",
    "        try:\n",
    "            print(row[1])\n",
    "        except:\n",
    "            continue"
   ]
  },
  {
   "cell_type": "code",
   "execution_count": 21,
   "metadata": {},
   "outputs": [
    {
     "name": "stdout",
     "output_type": "stream",
     "text": [
      "Uomini\n",
      "88,9\n",
      "Donne\n",
      "11,1\n"
     ]
    }
   ],
   "source": [
    "info2018='csv/dati_info_2018.csv'\n",
    "with open(info2018,'rt')as f:\n",
    "    data = csv.reader(f, delimiter = ';')\n",
    "    intresting2018=[row for idx, row in enumerate(data) if idx in range(8, 10)]#solo le rows interessanti\n",
    "    \n",
    "    for row in intresting2018:\n",
    "        print(row[0])\n",
    "        #per printare il dato allegato se c'è lo stampo altrimenti se non c'è genero eccezione che evito usando continue\n",
    "        try:\n",
    "            print(row[1])\n",
    "        except:\n",
    "            continue"
   ]
  },
  {
   "cell_type": "code",
   "execution_count": 22,
   "metadata": {},
   "outputs": [
    {
     "name": "stdout",
     "output_type": "stream",
     "text": [
      "Uomini\n",
      "88,6\n",
      "Donne\n",
      "11,4\n"
     ]
    }
   ],
   "source": [
    "info2019='csv/dati_info_2019.csv'\n",
    "with open(info2019,'rt')as f:\n",
    "    data = csv.reader(f, delimiter = ';')\n",
    "    intresting2019=[row for idx, row in enumerate(data) if idx in range(8, 10)]#solo le rows interessanti\n",
    "    \n",
    "    for row in intresting2019:\n",
    "        print(row[0])\n",
    "        #per printare il dato allegato se c'è lo stampo altrimenti se non c'è genero eccezione che evito usando continue\n",
    "        try:\n",
    "            print(row[1])\n",
    "        except:\n",
    "            continue"
   ]
  },
  {
   "cell_type": "code",
   "execution_count": 23,
   "metadata": {},
   "outputs": [
    {
     "name": "stdout",
     "output_type": "stream",
     "text": [
      "Uomini\n",
      "87,5\n",
      "Donne\n",
      "12,5\n"
     ]
    }
   ],
   "source": [
    "info2020='csv/dati_info_2020.csv'\n",
    "with open(info2020,'rt')as f:\n",
    "    data = csv.reader(f, delimiter = ';')\n",
    "    intresting2020=[row for idx, row in enumerate(data) if idx in range(8, 10)]#solo le rows interessanti\n",
    "    \n",
    "    for row in intresting2020:\n",
    "        print(row[0])\n",
    "        #per printare il dato allegato se c'è lo stampo altrimenti se non c'è genero eccezione che evito usando continue\n",
    "        try:\n",
    "            print(row[1])\n",
    "        except:\n",
    "            continue"
   ]
  },
  {
   "cell_type": "code",
   "execution_count": 33,
   "metadata": {},
   "outputs": [
    {
     "name": "stdout",
     "output_type": "stream",
     "text": [
      "(84.6, 92.1, 89.3, 88.9, 88.6, 87.5)\n",
      "(15.4, 7.9, 10.7, 11.1, 11.4, 12.5)\n"
     ]
    }
   ],
   "source": [
    "men = (float(intresting2015[0][1].replace(\",\",\".\")), float(intresting2016[0][1].replace(\",\",\".\")), float(intresting2017[0][1].replace(\",\",\".\")), float(intresting2018[0][1].replace(\",\",\".\")), float(intresting2019[0][1].replace(\",\",\".\")), float(intresting2020[0][1].replace(\",\",\".\")))\n",
    "women = (float(intresting2015[1][1].replace(\",\",\".\")), float(intresting2016[1][1].replace(\",\",\".\")), float(intresting2017[1][1].replace(\",\",\".\")), float(intresting2018[1][1].replace(\",\",\".\")), float(intresting2019[1][1].replace(\",\",\".\")), float(intresting2020[1][1].replace(\",\",\".\")))\n",
    "\n",
    "print(men, women, sep = '\\n')"
   ]
  },
  {
   "cell_type": "markdown",
   "metadata": {},
   "source": [
    "## Grafico temporale 1"
   ]
  },
  {
   "cell_type": "code",
   "execution_count": 36,
   "metadata": {},
   "outputs": [
    {
     "data": {
      "image/png": "[encoded data removed]",
      "text/plain": [
       "<Figure size 432x288 with 1 Axes>"
      ]
     },
     "metadata": {
      "needs_background": "light"
     },
     "output_type": "display_data"
    }
   ],
   "source": [
    "N = 6\n",
    "ind = np.arange(N)    # the x locations for the groups\n",
    "width = 0.35       # the width of the bars: can also be len(x) sequence\n",
    "\n",
    "mensG = plt.bar(ind, men, width, color = )\n",
    "womensG = plt.bar(ind, women, width,\n",
    "             bottom=menMeans) #bottom = The y coordinate(s) of the bars bases.\n",
    "\n",
    "plt.ylabel('Percentuale')\n",
    "plt.title('Grafico temporale genere dei laureati')\n",
    "plt.xticks(ind, ('2015', '2016', '2017', '2018', '2019', '2020'))\n",
    "plt.yticks(np.arange(0, 101, 10))\n",
    "plt.legend((mensG[0], womensG[0]), ('Men', 'Women'))\n",
    "\n",
    "plt.show()"
   ]
  },
  {
   "cell_type": "code",
   "execution_count": null,
   "metadata": {},
   "outputs": [],
   "source": []
  }
 ],
 "metadata": {
  "kernelspec": {
   "display_name": "Python 3",
   "language": "python",
   "name": "python3"
  },
  "language_info": {
   "codemirror_mode": {
    "name": "ipython",
    "version": 3
   },
   "file_extension": ".py",
   "mimetype": "text/x-python",
   "name": "python",
   "nbconvert_exporter": "python",
   "pygments_lexer": "ipython3",
   "version": "3.7.3"
  }
 },
 "nbformat": 4,
 "nbformat_minor": 2
}
