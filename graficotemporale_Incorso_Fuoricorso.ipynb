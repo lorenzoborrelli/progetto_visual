{
 "cells": [
  {
   "cell_type": "markdown",
   "id": "b46f1097",
   "metadata": {},
   "source": [
    "# grafico temporale corso / fuoricorso\n"
   ]
  },
  {
   "cell_type": "code",
   "execution_count": 10,
   "id": "d7491fa3",
   "metadata": {},
   "outputs": [
    {
     "name": "stdout",
     "output_type": "stream",
     "text": [
      "2015: [['In corso', '35,9'], ['1° anno fuori corso', '38,5'], ['2° anno fuori corso', '15,4'], ['3° anno fuori corso', '5,1'], ['4° anno fuori corso', '-'], ['5° anno fuori corso e oltre', '5,1'], ['Durata degli studi (medie, in anni)\\xa0', '4,3'], ['Ritardo alla laurea (medie, in anni)\\xa0', '0,9'], ['Indice di ritardo (rapporto fra ritardo e durata legale del corso)\\xa0', '0,30']]\n",
      "2016: [['In corso', '36,8'], ['1° anno fuori corso', '50,0'], ['2° anno fuori corso', '10,5'], ['3° anno fuori corso', '2,6'], ['4° anno fuori corso', '-'], ['5° anno fuori corso e oltre', '-'], ['Durata degli studi (medie, in anni)\\xa0', '3,9'], ['Ritardo alla laurea (medie, in anni)\\xa0', '0,5'], ['Indice di ritardo (rapporto fra ritardo e durata legale del corso)\\xa0', '0,18']]\n",
      "2017: [['In corso', '37,5'], ['1° anno fuori corso', '32,1'], ['2° anno fuori corso', '14,3'], ['3° anno fuori corso', '10,7'], ['4° anno fuori corso', '3,6'], ['5° anno fuori corso e oltre', '1,8'], ['Durata degli studi (medie, in anni)\\xa0', '4,2'], ['Ritardo alla laurea (medie, in anni)\\xa0', '0,9'], ['Indice di ritardo (rapporto fra ritardo e durata normale del corso)\\xa0', '0,29']]\n",
      "2018: [['In corso', '46,3'], ['1° anno fuori corso', '20,4'], ['2° anno fuori corso', '18,5'], ['3° anno fuori corso', '5,6'], ['4° anno fuori corso', '5,6'], ['5° anno fuori corso e oltre', '3,7'], ['Durata degli studi (medie, in anni)\\xa0', '4,3'], ['Ritardo alla laurea (medie, in anni)\\xa0', '0,9'], ['Indice di ritardo (rapporto fra ritardo e durata normale del corso)\\xa0', '0,31']]\n",
      "2019: [['In corso', '25,3'], ['1° anno fuori corso', '44,3'], ['2° anno fuori corso', '17,7'], ['3° anno fuori corso', '7,6'], ['4° anno fuori corso', '2,5'], ['5° anno fuori corso e oltre', '2,5'], ['Durata degli studi (medie, in anni)\\xa0', '4,4'], ['Ritardo alla laurea (medie, in anni)\\xa0', '1,4'], ['Indice di ritardo (rapporto fra ritardo e durata normale del corso)\\xa0', '0,47']]\n",
      "2020: [['In corso', '37,5'], ['1° anno fuori corso', '22,5'], ['2° anno fuori corso', '18,8'], ['3° anno fuori corso', '13,8'], ['4° anno fuori corso', '5,0'], ['5° anno fuori corso e oltre', '2,5'], ['Durata degli studi (medie, in anni)\\xa0', '4,6'], ['Ritardo alla laurea (medie, in anni)\\xa0', '1,6'], ['Indice di ritardo (rapporto fra ritardo e durata normale del corso)\\xa0', '0,52']]\n"
     ]
    }
   ],
   "source": [
    "#LIBRERIE \n",
    "import matplotlib.pyplot as plt\n",
    "import numpy as np\n",
    "import csv\n",
    "\n",
    "#estrazione csv 2015\n",
    "info_2015='csv\\dati_info_2015.csv'\n",
    "with open(info_2015,'rt')as f:\n",
    "    data = csv.reader(f, delimiter = ';')\n",
    "    ISMintresting_2015=[row for idx, row in enumerate(data) if idx in range(76,85)]\n",
    "\n",
    "    print('2015:', ISMintresting_2015)\n",
    "    \n",
    "#estrazione csv 2016\n",
    "info_2016='csv\\dati_info_2016.csv'\n",
    "with open(info_2016,'rt')as f:\n",
    "    data = csv.reader(f, delimiter = ';')\n",
    "    ISMintresting_2016=[row for idx, row in enumerate(data) if idx in range(76,85)]\n",
    "\n",
    "    print('2016:', ISMintresting_2016)\n",
    "    \n",
    "#estrazione csv 2017\n",
    "info_2017='csv\\dati_info_2017.csv'\n",
    "with open(info_2017,'rt')as f:\n",
    "    data = csv.reader(f, delimiter = ';')\n",
    "    ISMintresting_2017=[row for idx, row in enumerate(data) if idx in range(76,85)]\n",
    "\n",
    "    print('2017:', ISMintresting_2017)\n",
    "    \n",
    "#estrazione csv 2018\n",
    "info_2018='csv\\dati_info_2018.csv'\n",
    "with open(info_2018,'rt')as f:\n",
    "    data = csv.reader(f, delimiter = ';')\n",
    "    ISMintresting_2018=[row for idx, row in enumerate(data) if idx in range(74,83)] #NB: il csv del 2018 è diverso dagli altri\n",
    "\n",
    "    print('2018:', ISMintresting_2018)\n",
    "    \n",
    "#estrazione csv 2019\n",
    "info_2019='csv\\dati_info_2019.csv'\n",
    "with open(info_2019,'rt')as f:\n",
    "    data = csv.reader(f, delimiter = ';')\n",
    "    ISMintresting_2019=[row for idx, row in enumerate(data) if idx in range(76,85)]\n",
    "\n",
    "    print('2019:', ISMintresting_2019)\n",
    "    \n",
    "#estrazione csv 2020\n",
    "info_2020='csv\\dati_info_2020.csv'\n",
    "with open(info_2020,'rt')as f:\n",
    "    data = csv.reader(f, delimiter = ';')\n",
    "    ISMintresting_2020=[row for idx, row in enumerate(data) if idx in range(76,85)]\n",
    "\n",
    "    print('2020:', ISMintresting_2020)"
   ]
  },
  {
   "cell_type": "code",
   "execution_count": 33,
   "id": "a8050c3e",
   "metadata": {},
   "outputs": [
    {
     "data": {
      "image/png": "[encoded data removed]",
      "text/plain": [
       "<Figure size 432x288 with 1 Axes>"
      ]
     },
     "metadata": {
      "needs_background": "light"
     },
     "output_type": "display_data"
    }
   ],
   "source": [
    "#grafico numero laureati nel tempo\n",
    "\n",
    "\n",
    "quantity = [0,10,20,30,40,50,60,70,80,90,100]\n",
    "year = [\"2015\",\"2016\", \"2017\",\"2018\",\"2019\",\"2020\"]\n",
    "\n",
    "data = {'2015': float(ISMintresting_2015[0][1].replace(\",\",\".\")), '2016': float(ISMintresting_2016[0][1].replace(\",\",\".\")), '2017': float(ISMintresting_2017[0][1].replace(\",\",\".\")), '2018': float(ISMintresting_2018[0][1].replace(\",\",\".\")), '2019': float(ISMintresting_2019[0][1].replace(\",\",\".\")) , '2020': float(ISMintresting_2020[0][1].replace(\",\",\".\"))}\n",
    "names = list(data.keys())\n",
    "values = list(data.values())\n",
    "\n",
    "data2 = {'2015': float(ISMintresting_2015[1][1].replace(\",\",\".\")), '2016': float(ISMintresting_2016[1][1].replace(\",\",\".\")), '2017': float(ISMintresting_2017[1][1].replace(\",\",\".\")), '2018': float(ISMintresting_2018[1][1].replace(\",\",\".\")), '2019': float(ISMintresting_2019[1][1].replace(\",\",\".\")) , '2020': float(ISMintresting_2020[1][1].replace(\",\",\".\"))}\n",
    "values2 = list(data2.values())\n",
    "\n",
    "data3 = {'2015': float(ISMintresting_2015[2][1].replace(\",\",\".\")), '2016': float(ISMintresting_2016[2][1].replace(\",\",\".\")), '2017': float(ISMintresting_2017[2][1].replace(\",\",\".\")), '2018': float(ISMintresting_2018[2][1].replace(\",\",\".\")), '2019': float(ISMintresting_2019[2][1].replace(\",\",\".\")) , '2020': float(ISMintresting_2020[2][1].replace(\",\",\".\"))}\n",
    "values3 = list(data3.values())\n",
    "\n",
    "data4 = {'2015': float(ISMintresting_2015[3][1].replace(\",\",\".\")), '2016': float(ISMintresting_2016[3][1].replace(\",\",\".\")), '2017': float(ISMintresting_2017[3][1].replace(\",\",\".\")), '2018': float(ISMintresting_2018[3][1].replace(\",\",\".\")), '2019': float(ISMintresting_2019[3][1].replace(\",\",\".\")) , '2020': float(ISMintresting_2020[3][1].replace(\",\",\".\"))}\n",
    "values4 = list(data4.values())\n",
    "\n",
    "data5 = {'2015': 0, '2016': 0, '2017': float(ISMintresting_2017[4][1].replace(\",\",\".\")), '2018': float(ISMintresting_2018[4][1].replace(\",\",\".\")), '2019': float(ISMintresting_2019[4][1].replace(\",\",\".\")) , '2020': float(ISMintresting_2020[4][1].replace(\",\",\".\"))}\n",
    "values5 = list(data5.values())\n",
    "\n",
    "data6 = {'2015': float(ISMintresting_2015[5][1].replace(\",\",\".\")), '2016': 0, '2017': float(ISMintresting_2017[5][1].replace(\",\",\".\")), '2018': float(ISMintresting_2018[5][1].replace(\",\",\".\")), '2019': float(ISMintresting_2019[5][1].replace(\",\",\".\")) , '2020': float(ISMintresting_2020[5][1].replace(\",\",\".\"))}\n",
    "values6 = list(data6.values())\n",
    "\n",
    "fig, ax = plt.subplots()\n",
    "\n",
    "# ax.set_ylim(ymin = 0, ymax = 100) -> mette il minimo e il massimo delle y, ma ogni 20\n",
    "ax.plot( names, values, label = \"In corso\")\n",
    "ax.plot(names, values2, label=\"1° anno fuori corso\") #mettere tutti i fuori corso dello stesso colore ma con diverse tonalità\n",
    "ax.plot(names, values3, label=\"2° anno fuori corso\")\n",
    "ax.plot(names, values4, label=\"3° anno fuori corso\")\n",
    "ax.plot(names, values5, label=\"4° anno fuori corso\")\n",
    "ax.plot(names, values6, label=\"5° anno fuori corso\")\n",
    "\n",
    "\n",
    "plt.ylabel('Percentuale')\n",
    "ax.set_yticks(quantity)\n",
    "# ax.set_yticklabels([str(y) for y in quantity + \"%\"]) Non riesco a mettere il simbolo % sulle y \n",
    "\n",
    "ax.legend()\n",
    "\n",
    "fig.suptitle('Grafico temporale in corso e fuoricorso')\n",
    "\n",
    "plt.show()\n"
   ]
  },
  {
   "cell_type": "code",
   "execution_count": 61,
   "id": "82afde93",
   "metadata": {},
   "outputs": [
    {
     "name": "stdout",
     "output_type": "stream",
     "text": [
      "[35.9, 38.5, 15.4, 5.1, 0, 5.1]\n",
      "[36.8, 50.0, 10.5, 2.6, 0, 0]\n",
      "[37.5, 32.1, 14.3, 10.7, 3.6, 1.8]\n",
      "[46.3, 20.4, 18.5, 5.6, 5.6, 3.7]\n",
      "[25.3, 44.3, 17.7, 7.6, 2.5, 2.5]\n",
      "[37.5, 22.5, 18.8, 13.8, 5.0, 2.5]\n",
      "100.1\n"
     ]
    }
   ],
   "source": [
    "#NON SERVONO....\n",
    "year2015values = [float(ISMintresting_2015[0][1].replace(\",\",\".\")),float(ISMintresting_2015[1][1].replace(\",\",\".\")), \n",
    "                  float(ISMintresting_2015[2][1].replace(\",\",\".\")), float(ISMintresting_2015[3][1].replace(\",\",\".\")), \n",
    "                  0, float(ISMintresting_2015[5][1].replace(\",\",\".\"))]\n",
    "\n",
    "year2016values = [float(ISMintresting_2016[0][1].replace(\",\",\".\")),float(ISMintresting_2016[1][1].replace(\",\",\".\")), float(ISMintresting_2016[2][1].replace(\",\",\".\")), \n",
    "                  float(ISMintresting_2016[3][1].replace(\",\",\".\")), 0 , 0]\n",
    "\n",
    "year2017values = [float(ISMintresting_2017[0][1].replace(\",\",\".\")),float(ISMintresting_2017[1][1].replace(\",\",\".\")), float(ISMintresting_2017[2][1].replace(\",\",\".\")), \n",
    "                  float(ISMintresting_2017[3][1].replace(\",\",\".\")), float(ISMintresting_2017[4][1].replace(\",\",\".\")) ,\n",
    "                  float(ISMintresting_2017[5][1].replace(\",\",\".\"))]\n",
    "year2018values = [float(ISMintresting_2018[0][1].replace(\",\",\".\")),float(ISMintresting_2018[1][1].replace(\",\",\".\")), float(ISMintresting_2018[2][1].replace(\",\",\".\")), \n",
    "                  float(ISMintresting_2018[3][1].replace(\",\",\".\")), float(ISMintresting_2018[4][1].replace(\",\",\".\")) \n",
    "                  , float(ISMintresting_2018[5][1].replace(\",\",\".\"))]\n",
    "year2019values = [float(ISMintresting_2019[0][1].replace(\",\",\".\")),float(ISMintresting_2019[1][1].replace(\",\",\".\")),float(ISMintresting_2019[2][1].replace(\",\",\".\")), \n",
    "                  float(ISMintresting_2019[3][1].replace(\",\",\".\")), float(ISMintresting_2019[4][1].replace(\",\",\".\")) , \n",
    "                  float(ISMintresting_2019[5][1].replace(\",\",\".\"))]\n",
    "year2020values = [float(ISMintresting_2020[0][1].replace(\",\",\".\")),float(ISMintresting_2020[1][1].replace(\",\",\".\")), float(ISMintresting_2020[2][1].replace(\",\",\".\")), \n",
    "                  float(ISMintresting_2020[3][1].replace(\",\",\".\")), float(ISMintresting_2020[4][1].replace(\",\",\".\")) ,\n",
    "                  float(ISMintresting_2020[5][1].replace(\",\",\".\"))]\n",
    "\n",
    "print(year2015values, year2016values, year2017values, year2018values, year2019values, year2020values, sep=\"\\n\")\n",
    "j=0\n",
    "for i in year2020values:\n",
    "    j= j+i\n",
    "print(j)"
   ]
  },
  {
   "cell_type": "code",
   "execution_count": 87,
   "id": "b25dad2e",
   "metadata": {},
   "outputs": [],
   "source": [
    "def my_function(x, y):   #somma 2 array di dimensione 6, serve per far partire le y dalle coordinate giuste\n",
    "    summy=[0,0,0,0,0,0]\n",
    "    for i in range(6) :\n",
    "        summy[i] = x[i] + y[i]\n",
    "    return summy"
   ]
  },
  {
   "cell_type": "code",
   "execution_count": 98,
   "id": "5ba05350",
   "metadata": {},
   "outputs": [
    {
     "data": {
      "image/png": "[encoded data removed]",
      "text/plain": [
       "<Figure size 432x288 with 1 Axes>"
      ]
     },
     "metadata": {
      "needs_background": "light"
     },
     "output_type": "display_data"
    }
   ],
   "source": [
    "N = 6\n",
    "ind = np.arange(N)    # the x locations for the groups\n",
    "width = 0.35       # the width of the bars: can also be len(x) sequence\n",
    "\n",
    "\n",
    "#vedere come funziona bottotm \n",
    "Incor = plt.bar(ind, values , width, color = 'deepskyblue' )\n",
    "\n",
    "Unof = plt.bar(ind, values2, width, color = 'dimgray',\n",
    "             bottom = values) #bottom = The y coordinate(s) of the bars bases.\n",
    "\n",
    "r = my_function(values, values2)\n",
    "\n",
    "Duef= plt.bar(ind, values3, width, color = 'gray',\n",
    "            bottom = r)\n",
    "\n",
    "r = my_function(r, values3)\n",
    "\n",
    "Tref = plt.bar(ind, values4, width, color = 'darkgray',\n",
    "           bottom = r  )\n",
    "\n",
    "r = my_function(r, values4)\n",
    "\n",
    "Quattrof= plt.bar(ind, values5, width, color = 'silver',\n",
    "            bottom = r )\n",
    "\n",
    "r = my_function(r, values5)\n",
    "\n",
    "Cinquef = plt.bar(ind, values6, width, color = 'lightgray',\n",
    "            bottom = r )\n",
    "\n",
    "\n",
    "plt.ylabel('Percentuale')\n",
    "plt.title('Grafico temporale in corso e fuori corso')\n",
    "plt.xticks(ind, ('2015', '2016', '2017', '2018', '2019', '2020'))\n",
    "plt.yticks(np.arange(0, 101, 10))\n",
    "\n",
    "plt.legend((Incor[0], Unof[0], Duef[0], Tref[0], Quattrof[0], Cinquef[0]), ('In corso', '1° fuori corso', \n",
    "                                                                                  '2° fuori corso','3° fuori corso','4° fuori corso','5° fuori corso'), bbox_to_anchor=(1.05, 1))\n",
    "\n",
    "\n",
    "plt.show()"
   ]
  },
  {
   "cell_type": "code",
   "execution_count": 67,
   "id": "3701d8c7",
   "metadata": {},
   "outputs": [
    {
     "data": {
      "text/plain": [
       "[35.9, 36.8, 37.5, 46.3, 25.3, 37.5]"
      ]
     },
     "execution_count": 67,
     "metadata": {},
     "output_type": "execute_result"
    }
   ],
   "source": [
    "values"
   ]
  },
  {
   "cell_type": "code",
   "execution_count": 70,
   "id": "ed56d9c4",
   "metadata": {},
   "outputs": [
    {
     "data": {
      "text/plain": [
       "[38.5, 50.0, 32.1, 20.4, 44.3, 22.5]"
      ]
     },
     "execution_count": 70,
     "metadata": {},
     "output_type": "execute_result"
    }
   ],
   "source": [
    "values2\n"
   ]
  },
  {
   "cell_type": "code",
   "execution_count": 83,
   "id": "26443b5c",
   "metadata": {},
   "outputs": [
    {
     "data": {
      "text/plain": [
       "[74.4, 86.8, 69.6, 66.69999999999999, 69.6, 60.0]"
      ]
     },
     "execution_count": 83,
     "metadata": {},
     "output_type": "execute_result"
    }
   ],
   "source": [
    "\n",
    "\n",
    "def my_function(x, y):\n",
    "    summy=[0,0,0,0,0,0]\n",
    "    for i in range(6) :\n",
    "        summy[i] = x[i] + y[i]\n",
    "    return summy\n",
    "\n"
   ]
  },
  {
   "cell_type": "code",
   "execution_count": 84,
   "id": "08f8aedd",
   "metadata": {},
   "outputs": [
    {
     "data": {
      "text/plain": [
       "[89.80000000000001, 97.3, 83.89999999999999, 85.19999999999999, 87.3, 78.8]"
      ]
     },
     "execution_count": 84,
     "metadata": {},
     "output_type": "execute_result"
    }
   ],
   "source": [
    "r= my_function(r, values3)\n",
    "r"
   ]
  },
  {
   "cell_type": "code",
   "execution_count": 85,
   "id": "e4d894a3",
   "metadata": {},
   "outputs": [
    {
     "data": {
      "text/plain": [
       "[94.9, 99.89999999999999, 94.6, 90.79999999999998, 94.89999999999999, 92.6]"
      ]
     },
     "execution_count": 85,
     "metadata": {},
     "output_type": "execute_result"
    }
   ],
   "source": [
    "r= my_function(r, values4)\n",
    "r"
   ]
  },
  {
   "cell_type": "code",
   "execution_count": 86,
   "id": "dae269eb",
   "metadata": {},
   "outputs": [
    {
     "data": {
      "text/plain": [
       "[94.9,\n",
       " 99.89999999999999,\n",
       " 98.19999999999999,\n",
       " 96.39999999999998,\n",
       " 97.39999999999999,\n",
       " 97.6]"
      ]
     },
     "execution_count": 86,
     "metadata": {},
     "output_type": "execute_result"
    }
   ],
   "source": [
    "r= my_function(r, values5)\n",
    "r"
   ]
  },
  {
   "cell_type": "code",
   "execution_count": null,
   "id": "b7730242",
   "metadata": {},
   "outputs": [],
   "source": []
  }
 ],
 "metadata": {
  "kernelspec": {
   "display_name": "Python 3",
   "language": "python",
   "name": "python3"
  },
  "language_info": {
   "codemirror_mode": {
    "name": "ipython",
    "version": 3
   },
   "file_extension": ".py",
   "mimetype": "text/x-python",
   "name": "python",
   "nbconvert_exporter": "python",
   "pygments_lexer": "ipython3",
   "version": "3.8.8"
  }
 },
 "nbformat": 4,
 "nbformat_minor": 5
}
