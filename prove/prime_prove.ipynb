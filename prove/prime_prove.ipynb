{
 "cells": [
  {
   "cell_type": "markdown",
   "metadata": {},
   "source": [
    "# Esempio csv laureati anno 2020 laurea triennale informatica statale milano a confronto"
   ]
  },
  {
   "cell_type": "code",
   "execution_count": 11,
   "metadata": {},
   "outputs": [],
   "source": [
    "import pandas as pd\n",
    "import matplotlib.pyplot as plt\n",
    "import csv"
   ]
  },
  {
   "cell_type": "code",
   "execution_count": 60,
   "metadata": {},
   "outputs": [
    {
     "name": "stdout",
     "output_type": "stream",
     "text": [
      "1. Popolazione analizzata\n",
      "\n",
      "\n",
      "Numero di laureati\n",
      "79\n",
      "Numero di intervistati\n",
      "47\n",
      "Tasso di risposta sul totale dei laureati \n",
      "59,5\n",
      "Tasso di risposta sui laureati contattabili \n",
      "75,8\n",
      "Genere (%)\n",
      " \n",
      "Uomini\n",
      "88,6\n",
      "Donne\n",
      "11,4\n",
      "Età alla laurea (medie, in anni) \n",
      "24,2\n",
      "Voto di laurea (medie, in 110-mi) \n",
      "95,7\n",
      "Durata degli studi (medie, in anni) \n",
      "4,4\n",
      "Indice di ritardo \n",
      "0,47\n"
     ]
    }
   ],
   "source": [
    "informaticaStataleMilano2020='InformaticaStataleMilano.csv'\n",
    "with open(informaticaStataleMilano2020,'rt')as f:\n",
    "    data = csv.reader(f, delimiter = ';')\n",
    "    ISMintresting=[row for idx, row in enumerate(data) if idx in range(0,13)]#solo le rows interessanti\n",
    "    \n",
    "    for row in ISMintresting:\n",
    "        print(row[0])\n",
    "        #per printare il dato allegato se c'è lo stampo altrimenti se non c'è genero eccezione che evito usando continue\n",
    "        try:\n",
    "            print(row[1])\n",
    "        except:\n",
    "            continue\n"
   ]
  },
  {
   "cell_type": "code",
   "execution_count": 61,
   "metadata": {},
   "outputs": [
    {
     "name": "stdout",
     "output_type": "stream",
     "text": [
      "1. Popolazione analizzata\n",
      "\n",
      "\n",
      "Numero di laureati\n",
      "3222\n",
      "Numero di intervistati\n",
      "2372\n",
      "Tasso di risposta sul totale dei laureati \n",
      "73,6\n",
      "Tasso di risposta sui laureati contattabili \n",
      "81,8\n",
      "Genere (%)\n",
      " \n",
      "Uomini\n",
      "86,2\n",
      "Donne\n",
      "13,8\n",
      "Età alla laurea (medie, in anni) \n",
      "24,7\n",
      "Voto di laurea (medie, in 110-mi) \n",
      "98,2\n",
      "Durata degli studi (medie, in anni) \n",
      "4,6\n",
      "Indice di ritardo \n",
      "0,54\n"
     ]
    }
   ],
   "source": [
    "informaticaTotale2020='tutteInformatica.csv'\n",
    "with open(informaticaTotale2020,'rt')as f:\n",
    "    data = csv.reader(f, delimiter = ';')\n",
    "    ITintresting=[row for idx, row in enumerate(data) if idx in range(0,13)]#solo le rows interessanti\n",
    "\n",
    "    for row in ITintresting:\n",
    "        print(row[0])\n",
    "        #per printare il dato allegato se c'è lo stampo altrimenti se non c'è genero eccezione che evito usando continue\n",
    "        try:\n",
    "            print(row[1])\n",
    "        except:\n",
    "            continue"
   ]
  },
  {
   "cell_type": "code",
   "execution_count": 62,
   "metadata": {},
   "outputs": [
    {
     "name": "stdout",
     "output_type": "stream",
     "text": [
      "1. Popolazione analizzata\n",
      "\n",
      "\n",
      "Numero di laureati\n",
      "56\n",
      "Numero di intervistati\n",
      "41\n",
      "Tasso di risposta sul totale dei laureati \n",
      "73,2\n",
      "Tasso di risposta sui laureati contattabili \n",
      "80,4\n",
      "Genere (%)\n",
      " \n",
      "Uomini\n",
      "89,3\n",
      "Donne\n",
      "10,7\n",
      "Età alla laurea (medie, in anni) \n",
      "24,5\n",
      "Voto di laurea (medie, in 110-mi) \n",
      "95,2\n",
      "Durata degli studi (medie, in anni) \n",
      "4,6\n",
      "Indice di ritardo \n",
      "0,55\n"
     ]
    }
   ],
   "source": [
    "informaticaBologna2020='InformaticaBologna.csv'\n",
    "with open(informaticaBologna2020,'rt')as f:\n",
    "    data = csv.reader(f, delimiter = ';')\n",
    "    IBintresting=[row for idx, row in enumerate(data) if idx in range(0,13)]#solo le rows interessanti\n",
    "\n",
    "    for row in IBintresting:\n",
    "        print(row[0])\n",
    "        #per printare il dato allegato se c'è lo stampo altrimenti se non c'è genero eccezione che evito usando continue\n",
    "        try:\n",
    "            print(row[1])\n",
    "        except:\n",
    "            continue"
   ]
  },
  {
   "cell_type": "code",
   "execution_count": 66,
   "metadata": {},
   "outputs": [
    {
     "name": "stdout",
     "output_type": "stream",
     "text": [
      "1. Popolazione analizzata\n",
      "\n",
      "\n",
      "Numero di laureati\n",
      "120\n",
      "Numero di intervistati\n",
      "86\n",
      "Tasso di risposta sul totale dei laureati \n",
      "71,7\n",
      "Tasso di risposta sui laureati contattabili \n",
      "81,1\n",
      "Genere (%)\n",
      " \n",
      "Uomini\n",
      "86,7\n",
      "Donne\n",
      "13,3\n",
      "Età alla laurea (medie, in anni) \n",
      "25,4\n",
      "Voto di laurea (medie, in 110-mi) \n",
      "99,4\n",
      "Durata degli studi (medie, in anni) \n",
      "5,1\n",
      "Indice di ritardo \n",
      "0,69\n"
     ]
    }
   ],
   "source": [
    "informaticaSapeinza2020='InformaticaSapienza.csv'\n",
    "with open(informaticaSapeinza2020,'rt')as f:\n",
    "    data = csv.reader(f, delimiter = ';')\n",
    "    ISintresting=[row for idx, row in enumerate(data) if idx in range(0,13)]#solo le rows interessanti\n",
    "\n",
    "    for row in ISintresting:\n",
    "        print(row[0])\n",
    "        #per printare il dato allegato se c'è lo stampo altrimenti se non c'è genero eccezione che evito usando continue\n",
    "        try:\n",
    "            print(row[1])\n",
    "        except:\n",
    "            continue"
   ]
  },
  {
   "cell_type": "code",
   "execution_count": 67,
   "metadata": {},
   "outputs": [
    {
     "name": "stdout",
     "output_type": "stream",
     "text": [
      "Durata degli studi:\n",
      "Informatica Statale Milano: 4,4\n",
      "Informatica Bologna: 4,6\n",
      "Informatica Sapienza: 5,1\n",
      "Informatica Italia: 4,6\n"
     ]
    }
   ],
   "source": [
    " #oro posso accedere direttamente\n",
    "print(\"Durata degli studi:\")\n",
    "print('Informatica Statale Milano:', ISMintresting[11][1])\n",
    "print('Informatica Bologna:', IBintresting[11][1])\n",
    "print('Informatica Sapienza:', ISintresting[11][1])\n",
    "print('Informatica Italia:', ITintresting[11][1])"
   ]
  },
  {
   "cell_type": "code",
   "execution_count": null,
   "metadata": {},
   "outputs": [],
   "source": []
  }
 ],
 "metadata": {
  "kernelspec": {
   "display_name": "Python 3",
   "language": "python",
   "name": "python3"
  },
  "language_info": {
   "codemirror_mode": {
    "name": "ipython",
    "version": 3
   },
   "file_extension": ".py",
   "mimetype": "text/x-python",
   "name": "python",
   "nbconvert_exporter": "python",
   "pygments_lexer": "ipython3",
   "version": "3.7.3"
  }
 },
 "nbformat": 4,
 "nbformat_minor": 2
}
